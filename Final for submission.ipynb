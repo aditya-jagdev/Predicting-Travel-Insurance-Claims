{
 "cells": [
  {
   "cell_type": "code",
   "execution_count": 49,
   "metadata": {},
   "outputs": [
    {
     "name": "stderr",
     "output_type": "stream",
     "text": [
      "C:\\Users\\hp\\Anaconda3\\lib\\site-packages\\sklearn\\preprocessing\\label.py:151: DeprecationWarning: The truth value of an empty array is ambiguous. Returning False, but in future this will result in an error. Use `array.size > 0` to check that an array is not empty.\n",
      "  if diff:\n"
     ]
    },
    {
     "name": "stdout",
     "output_type": "stream",
     "text": [
      "             precision    recall  f1-score   support\n",
      "\n",
      "          0       0.99      0.92      0.95     14230\n",
      "          1       0.07      0.40      0.13       225\n",
      "\n",
      "avg / total       0.98      0.91      0.94     14455\n",
      "\n",
      "Accuracy of K nearest neighbour classifer: 0.9123486682808717\n"
     ]
    },
    {
     "name": "stderr",
     "output_type": "stream",
     "text": [
      "C:\\Users\\hp\\Anaconda3\\lib\\site-packages\\sklearn\\preprocessing\\label.py:151: DeprecationWarning: The truth value of an empty array is ambiguous. Returning False, but in future this will result in an error. Use `array.size > 0` to check that an array is not empty.\n",
      "  if diff:\n"
     ]
    },
    {
     "data": {
      "text/plain": [
       "0.9123486682808717"
      ]
     },
     "execution_count": 49,
     "metadata": {},
     "output_type": "execute_result"
    }
   ],
   "source": [
    "from sklearn.ensemble import VotingClassifier\n",
    "\n",
    "#create a dictionary of our models\n",
    "estimators=[('DescionTreeClassifier', smote_clf), \n",
    "            ('RandomForest', smote_model_RF), \n",
    "            ('LogisticRegression', smote_model_lr),\n",
    "            ('KNN',smote_model_knn)]\n",
    "\n",
    "#create our voting classifier, inputting our models\n",
    "ensemble = VotingClassifier(estimators, voting='soft',weights=[2,1,10,3])\n",
    "#fit model to training data\n",
    "ensemble.fit(X_train_os, y_train_os)\n",
    "#Predict the response for test dataset\n",
    "ensemble_y_pred_knn = ensemble.predict(X_test)\n",
    "\n",
    "# classification report\n",
    "print(classification_report(y_test,ensemble_y_pred_knn))\n",
    "\n",
    "# Model Accuracy, how often is the classifier correct?\n",
    "print(\"Accuracy of K nearest neighbour classifer:\",metrics.accuracy_score(y_test, ensemble_y_pred_knn))\n",
    "#test our model on the test data\n",
    "ensemble.score(X_test, y_test)"
   ]
  }
 ],
 "metadata": {
  "kernelspec": {
   "display_name": "Python 3",
   "language": "python",
   "name": "python3"
  },
  "language_info": {
   "codemirror_mode": {
    "name": "ipython",
    "version": 3
   },
   "file_extension": ".py",
   "mimetype": "text/x-python",
   "name": "python",
   "nbconvert_exporter": "python",
   "pygments_lexer": "ipython3",
   "version": "3.7.6"
  },
  "pycharm": {
   "stem_cell": {
    "cell_type": "raw",
    "metadata": {
     "collapsed": false
    },
    "source": []
   }
  }
 },
 "nbformat": 4,
 "nbformat_minor": 2
}
