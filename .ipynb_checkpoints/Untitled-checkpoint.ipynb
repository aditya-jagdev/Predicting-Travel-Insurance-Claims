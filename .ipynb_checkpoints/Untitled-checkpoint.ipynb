{
 "cells": [
  {
   "cell_type": "markdown",
   "metadata": {},
   "source": [
    "# Unused code"
   ]
  },
  {
   "cell_type": "code",
   "execution_count": 1,
   "metadata": {},
   "outputs": [],
   "source": [
    "def get_pca_comp_df(pca_object, X):\n",
    "    df_comp = pd.DataFrame(pca_object.components_)\n",
    "    df_comp = df_comp.rename(columns={key:f'{key}_{val}' \n",
    "                                  for key, val in zip(range(0, pca_object.components_.shape[1]), \n",
    "                                                      X.columns)\n",
    "                                 }\n",
    "                        )\n",
    "    df_comp['pc_X'] = [f'pc_{i+1}' for i in range(0, pca_object.components_.shape[0])]\n",
    "    df_comp = df_comp.set_index(keys=['pc_X'])\n",
    "    return df_comp"
   ]
  },
  {
   "cell_type": "code",
   "execution_count": null,
   "metadata": {},
   "outputs": [],
   "source": [
    "pca_df = get_pca_comp_df(pca_25, X)"
   ]
  },
  {
   "cell_type": "code",
   "execution_count": null,
   "metadata": {},
   "outputs": [],
   "source": [
    "for i in range(1, 26):\n",
    "    # features ranked by importance of a PC\n",
    "    pcX_most_imp = pca_df.loc[f'pc_{i}', :].abs().sort_values(ascending=False)\n",
    "\n",
    "    _ = plt.pie(pcX_most_imp.iloc[:25].values, labels=pcX_most_imp.iloc[:25].index,\n",
    "           explode=[0.4 for i in range(0, 25)], );\n",
    "    _ = plt.title(f' feature importances for pc_{i}')\n",
    "    _ = plt.show();"
   ]
  },
  {
   "cell_type": "code",
   "execution_count": null,
   "metadata": {},
   "outputs": [],
   "source": [
    "# most important feature across all PCs\n",
    "pc_most_imp = pca_df.sum().abs().sort_values(ascending=False)\n",
    "\n",
    "plt.pie(pc_most_imp.iloc[:25].values, labels=pc_most_imp.iloc[:25].index,\n",
    "       explode=[0.4 for i in range(0, 25)], );"
   ]
  },
  {
   "cell_type": "code",
   "execution_count": null,
   "metadata": {},
   "outputs": [],
   "source": [
    "test_set_pca = pd.DataFrame(X_test_pca_25)"
   ]
  },
  {
   "cell_type": "code",
   "execution_count": null,
   "metadata": {},
   "outputs": [],
   "source": [
    "y_pred = {}\n",
    "\n",
    "for key in trained_models:\n",
    "    if key=='trained models/xgb_1.pickle':\n",
    "        y_pred[key] = pd.Series(trained_models[key][2].predict(test_set_pca.rename(columns={key:f'{key} ' \n",
    "                                                                                            for key in range(0, 10)})),\n",
    "                           name=key.split('/')[1].split('.')[0])\n",
    "    else:\n",
    "        y_pred[key] = pd.Series(trained_models[key][2].predict(test_set_pca),\n",
    "                               name=key.split('/')[1].split('.')[0])"
   ]
  }
 ],
 "metadata": {
  "kernelspec": {
   "display_name": "Python 3",
   "language": "python",
   "name": "python3"
  },
  "language_info": {
   "codemirror_mode": {
    "name": "ipython",
    "version": 3
   },
   "file_extension": ".py",
   "mimetype": "text/x-python",
   "name": "python",
   "nbconvert_exporter": "python",
   "pygments_lexer": "ipython3",
   "version": "3.6.10"
  }
 },
 "nbformat": 4,
 "nbformat_minor": 4
}
