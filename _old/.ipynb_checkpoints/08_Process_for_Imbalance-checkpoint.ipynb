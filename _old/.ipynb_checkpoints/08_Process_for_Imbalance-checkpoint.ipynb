{
 "cells": [
  {
   "cell_type": "code",
   "execution_count": 19,
   "metadata": {},
   "outputs": [],
   "source": [
    "import numpy as np\n",
    "import pandas as pd\n",
    "import pickle\n",
    "import pydotplus\n",
    "import seaborn as sns\n",
    "import sys\n",
    "import time\n",
    "import warnings\n",
    "import zipfile\n",
    "\n",
    "from collections import (Counter,)\n",
    "from imblearn.under_sampling \\\n",
    "    import (RandomUnderSampler,\n",
    "            ClusterCentroids,\n",
    "            TomekLinks,)\n",
    "from imblearn.over_sampling \\\n",
    "    import (RandomOverSampler,\n",
    "            SMOTE,)\n",
    "from io import (StringIO,)\n",
    "from IPython.display import (Image,)\n",
    "from matplotlib import (pyplot as plt,)\n",
    "from mlxtend.classifier import (StackingClassifier,)\n",
    "from scipy import (stats,)\n",
    "from scipy.cluster import (hierarchy as sch,)\n",
    "from sklearn.cluster \\\n",
    "    import (KMeans,\n",
    "            AgglomerativeClustering,)\n",
    "from sklearn.datasets import (make_moons,)\n",
    "from sklearn.decomposition import (PCA,) \n",
    "from sklearn.ensemble \\\n",
    "    import (AdaBoostClassifier,\n",
    "            BaggingClassifier,\n",
    "            ExtraTreesClassifier,\n",
    "            GradientBoostingClassifier,\n",
    "            RandomForestClassifier,\n",
    "            VotingClassifier,)\n",
    "from sklearn.feature_selection \\\n",
    "    import (chi2,\n",
    "            f_regression,\n",
    "            f_classif,\n",
    "            RFE,\n",
    "            SelectFromModel,\n",
    "            SelectKBest,\n",
    "            SelectPercentile,)\n",
    "from sklearn.linear_model \\\n",
    "    import (Lasso,\n",
    "            LogisticRegression,\n",
    "            LinearRegression,\n",
    "            Ridge,)\n",
    "from sklearn.metrics \\\n",
    "    import (accuracy_score,\n",
    "            auc,\n",
    "            classification_report,\n",
    "            confusion_matrix,\n",
    "            f1_score,\n",
    "            precision_score,\n",
    "            precision_recall_fscore_support as error_metric,\n",
    "            r2_score,\n",
    "            recall_score,\n",
    "            roc_auc_score,\n",
    "            roc_curve,)\n",
    "from sklearn.model_selection \\\n",
    "    import (GridSearchCV,\n",
    "            RandomizedSearchCV,\n",
    "            train_test_split,)\n",
    "from sklearn.multiclass import (OneVsRestClassifier,)\n",
    "from sklearn.pipeline import (make_pipeline,)\n",
    "from sklearn.preprocessing \\\n",
    "    import (LabelEncoder,\n",
    "            MinMaxScaler,\n",
    "            StandardScaler,)\n",
    "from sklearn.svm \\\n",
    "    import (LinearSVC,\n",
    "            LinearSVC,\n",
    "            SVC,)\n",
    "from sklearn.tree \\\n",
    "    import (DecisionTreeClassifier,\n",
    "            DecisionTreeRegressor,)\n",
    "from xgboost import (XGBClassifier,)\n",
    "\n",
    "warnings.filterwarnings(\"ignore\")\n",
    "np.set_printoptions(threshold=sys.maxsize)"
   ]
  },
  {
   "cell_type": "code",
   "execution_count": 20,
   "metadata": {},
   "outputs": [],
   "source": [
    "def get_df_name(df):\n",
    "    name =[x for x in globals() if globals()[x] is df][0]\n",
    "    return name"
   ]
  },
  {
   "cell_type": "code",
   "execution_count": 21,
   "metadata": {
    "scrolled": false
   },
   "outputs": [
    {
     "name": "stdout",
     "output_type": "stream",
     "text": [
      "                          0\n",
      "Agency                 6.00\n",
      "Agency Type            1.00\n",
      "Product Name          16.00\n",
      "Duration               7.00\n",
      "Destination           56.00\n",
      "Net Sales              0.00\n",
      "Commision (in value)  17.82\n",
      "Age                   31.00\n",
      "       0\n",
      "Claim  0\n"
     ]
    }
   ],
   "source": [
    "X, y = pd.read_csv(\"X_cleaned.csv\").iloc[:,1:], pd.read_csv(\"y_cleaned.csv\").iloc[:,1:]\n",
    "print(X.head(1).T)\n",
    "print(y.head(1).T)"
   ]
  },
  {
   "cell_type": "markdown",
   "metadata": {},
   "source": [
    "$Undersampling$"
   ]
  },
  {
   "cell_type": "code",
   "execution_count": 22,
   "metadata": {},
   "outputs": [],
   "source": [
    "X_train, X_test, y_train, y_test = train_test_split(X, y, test_size=0.3, random_state=4, stratify=y,)\n",
    "\n",
    "shuffled_data = pd.concat([X_train, y_train,], axis=1,).sample(frac=1, random_state=4,)\n",
    "\n",
    "positive_class = shuffled_data[shuffled_data['Claim']==1]\n",
    "negative_class = shuffled_data[shuffled_data['Claim']==0].sample(n=len(positive_class), random_state=4,)\n",
    "\n",
    "undersampled_df = pd.concat([negative_class, positive_class],)\n",
    "\n",
    "X_train, y_train = undersampled_df.drop('Claim', axis=1,), undersampled_df['Claim'].copy()\n",
    "\n",
    "for i in (X_train, X_test, y_train, y_test):\n",
    "    i.to_csv(f'{get_df_name(i)}_undersampled.csv')"
   ]
  },
  {
   "cell_type": "markdown",
   "metadata": {},
   "source": [
    "$Oversampling$"
   ]
  },
  {
   "cell_type": "code",
   "execution_count": 23,
   "metadata": {},
   "outputs": [],
   "source": [
    "X_train, X_test, y_train, y_test = train_test_split(X, y, test_size=0.3, random_state=4,)\n",
    "\n",
    "oversampler = RandomOverSampler(sampling_strategy='not majority', random_state=4,)\n",
    "X_train, y_train = oversampler.fit_resample(X_train, y_train,)\n",
    "\n",
    "for i in (X_train, X_test, y_train, y_test):\n",
    "    i.to_csv(f'{get_df_name(i)}_oversampled.csv')"
   ]
  },
  {
   "cell_type": "markdown",
   "metadata": {},
   "source": [
    "$SMOTE$"
   ]
  },
  {
   "cell_type": "code",
   "execution_count": 24,
   "metadata": {},
   "outputs": [],
   "source": [
    "X_train, X_test, y_train, y_test = train_test_split(X, y, test_size=0.3, random_state=4,)\n",
    "\n",
    "smote = SMOTE(sampling_strategy='not majority', random_state=4,)\n",
    "X_train, y_train = smote.fit_resample(X_train, y_train,)\n",
    "\n",
    "for i in (X_train, X_test, y_train, y_test):\n",
    "    i.to_csv(f'{get_df_name(i)}_smote.csv')"
   ]
  }
 ],
 "metadata": {
  "kernelspec": {
   "display_name": "Python 3",
   "language": "python",
   "name": "python3"
  },
  "language_info": {
   "codemirror_mode": {
    "name": "ipython",
    "version": 3
   },
   "file_extension": ".py",
   "mimetype": "text/x-python",
   "name": "python",
   "nbconvert_exporter": "python",
   "pygments_lexer": "ipython3",
   "version": "3.6.10"
  }
 },
 "nbformat": 4,
 "nbformat_minor": 4
}
